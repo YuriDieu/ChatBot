{
  "nbformat": 4,
  "nbformat_minor": 0,
  "metadata": {
    "colab": {
      "provenance": []
    },
    "kernelspec": {
      "name": "python3",
      "display_name": "Python 3"
    },
    "language_info": {
      "name": "python"
    }
  },
  "cells": [
    {
      "cell_type": "markdown",
      "source": [
        "# Projeto de Chatbot de atendimento ao cliente baseado em regras\n",
        "\n",
        "## Projeto desenvolvido para a disciplina de Agentes Conversacionais - IA - PUCPR"
      ],
      "metadata": {
        "id": "y2DBk_8_ashX"
      }
    },
    {
      "cell_type": "markdown",
      "source": [
        "### Chatbot baseado em regras\n",
        "\n",
        "É o tipo de chatbot mais simples que existe. Consiste em um dataset com respostas pré-definidas e uma série de regras que servem para encontrar estas respostas (ou intenções) no dataset.\n",
        "\n",
        "Apesar das limitações, esses tipos de chatbots podem ser bastante eficientes e produtivos se tiverem regras bem definidas e um dataset substancial de respostas."
      ],
      "metadata": {
        "id": "CY3KQA2Ibd03"
      }
    },
    {
      "cell_type": "markdown",
      "source": [
        "### Qual o contexto do chatbot?\n",
        "\n",
        "Irei desenvolver um chatbot de interação com clientes de um restaurante. O objetivo é que o chatbot auxilie o cliente a encontrar as informações desejadas sem que precise navegar por vários links do site."
      ],
      "metadata": {
        "id": "Fm4eClhub5am"
      }
    },
    {
      "cell_type": "markdown",
      "source": [
        "### Serão utilizadas as seguintes ferramentas\n",
        "\n",
        "*   **NLTK** - O toolkit de Processamento de Linguagem Natural em Python.\n",
        "*   **Expressões Regulares** - o pacote de regex do Python será utilizado para otimizar a busca de padrões.\n",
        "*   **WordNet** - o grande banco de dados léxico e semântico, disponível em diversos idiomas.\n"
      ],
      "metadata": {
        "id": "ndPXkuBNcG_V"
      }
    },
    {
      "cell_type": "markdown",
      "source": [
        "### Construindo o chatbot\n",
        "O chatbot vai operar da seguinte maneira:\n",
        "\n",
        "1.   Recebe **entrada** do usuário\n",
        "2.   Procura **palavras-chave** na entrada do usuário\n",
        "3.   Define a **intenção associada** à entrada\n",
        "4.   Obtém a **resposta baseada na intenção** definida\n",
        "5.   Mostra a **resposta** ao usuário\n",
        "\n",
        "Portanto, teremos uma **tabela que associe as palavras-chave desejadas, com as intenções definidas** em nosso dataset. A seguir um exemplo:\n",
        "![Exemplo de busca de intenção e resposta](https://docs.google.com/uc?export=download&id=1LnOTZiahBSv9VGrCSExbylNbxHpclMKZ)"
      ],
      "metadata": {
        "id": "aRBMq9IGcett"
      }
    },
    {
      "cell_type": "markdown",
      "source": [
        "#### Importando as bibliotecas\n",
        "Importação do pacote de expressões regulares do Python e também o acesso ao WordNet dado pelo NLTK."
      ],
      "metadata": {
        "id": "oGMIHJ8Rc912"
      }
    },
    {
      "cell_type": "code",
      "source": [
        "import re\n",
        "import nltk\n",
        "from nltk.corpus import wordnet\n",
        "# Download do wordnet\n",
        "nltk.download('wordnet')\n",
        "# Open Multilingual Wordnet\n",
        "nltk.download('omw-1.4')"
      ],
      "metadata": {
        "colab": {
          "base_uri": "https://localhost:8080/"
        },
        "id": "SKt_EIjNbDIN",
        "outputId": "f9915842-d4db-4db8-c1b0-87e52ce9ea18",
        "collapsed": true
      },
      "execution_count": 1,
      "outputs": [
        {
          "output_type": "stream",
          "name": "stderr",
          "text": [
            "[nltk_data] Downloading package wordnet to /root/nltk_data...\n",
            "[nltk_data] Downloading package omw-1.4 to /root/nltk_data...\n"
          ]
        },
        {
          "output_type": "execute_result",
          "data": {
            "text/plain": [
              "True"
            ]
          },
          "metadata": {},
          "execution_count": 1
        }
      ]
    },
    {
      "cell_type": "markdown",
      "source": [
        "#### Construindo a lista de palavras-chave\n",
        "Esta é uma etapa que pode demandar bastante tempo, ainda mais se o desenvolvedor quiser definir as palavras manualmente. Porém, quanto mais palavras-chave tiver, maior a cobertura do chatbot."
      ],
      "metadata": {
        "id": "CLIaKSCKdwH4"
      }
    },
    {
      "cell_type": "code",
      "source": [
        "# Lista de palavras\n",
        "palavras = ['olá', 'horário', 'obrigado', 'local', 'cardápio']\n",
        "# Dicionário de sinônimos\n",
        "lista_sinonimos = {}\n",
        "\n",
        "# Percorre a lista de palavras\n",
        "for palavra in palavras:\n",
        "  sinonimos = []\n",
        "  # Então é feita a busca de sinônimos da lista 'palavras' no wordnet e pt-br:\n",
        "  for syn in wordnet.synsets(palavra, lang='por'):\n",
        "    # Busca das formas léxicas das palavras e as retorna\n",
        "    for lem in syn.lemmas(lang='por'):\n",
        "      # Adiciona a forma na lista\n",
        "      sinonimos.append(lem.name())\n",
        "\n",
        "  # Adicionar ao dicionário elementos únicos\n",
        "  lista_sinonimos[palavra] = set(sinonimos)\n",
        "\n",
        "print(lista_sinonimos)"
      ],
      "metadata": {
        "colab": {
          "base_uri": "https://localhost:8080/"
        },
        "id": "7QRXCB37dlBO",
        "outputId": "948b5961-01c2-40e2-b940-16160061176f"
      },
      "execution_count": 7,
      "outputs": [
        {
          "output_type": "stream",
          "name": "stdout",
          "text": [
            "{'olá': {'olá'}, 'horário': {'programa', 'ordem_do_dia', 'cronograma', 'plano', 'horário', 'agenda'}, 'obrigado': {'apreciativo', 'obrigado', 'agradecido'}, 'local': {'local', 'lugar', 'posição', 'situação'}, 'cardápio': {'cardápio', 'menu'}}\n"
          ]
        }
      ]
    },
    {
      "cell_type": "code",
      "source": [
        "# Vou adicionar um sinônimo a lista de sinônimos\n",
        "lista_sinonimos['olá'].add('oi')\n",
        "lista_sinonimos['obrigado'].add('muito obrigado')\n",
        "lista_sinonimos['obrigado'].add('valeu')\n",
        "lista_sinonimos['obrigado'].add('agradeço')\n",
        "lista_sinonimos['local'].add('localização')\n",
        "lista_sinonimos['local'].add('localidade')\n",
        "lista_sinonimos['local'].add('endereço')\n",
        "lista_sinonimos['local'].add('atendem')\n",
        "\n",
        "print(lista_sinonimos)"
      ],
      "metadata": {
        "colab": {
          "base_uri": "https://localhost:8080/"
        },
        "id": "0RNXMlBQm9ty",
        "outputId": "f8b467cb-7e15-42e8-a5f9-362778abcd14"
      },
      "execution_count": 12,
      "outputs": [
        {
          "output_type": "stream",
          "name": "stdout",
          "text": [
            "{'olá': {'oi', 'olá'}, 'horário': {'programa', 'ordem_do_dia', 'cronograma', 'plano', 'horário', 'agenda'}, 'obrigado': {'apreciativo', 'muito obrigado', 'valeu', 'obrigado', 'agradeço', 'agradecido'}, 'local': {'localização', 'lugar', 'posição', 'local', 'endereço', 'situação', 'localidade', 'atendem'}, 'cardápio': {'cardápio', 'menu'}}\n"
          ]
        }
      ]
    },
    {
      "cell_type": "markdown",
      "source": [
        "#### Construindo dicionário de intenções\n",
        "Vou utilizar o dicionário de sinônimos construído e mapeá-los para as possíveis intenções. Além disso, vou formatar as palavras-chave de modo que sejam interpretadas pela ferramenta de busca de expressões regulares."
      ],
      "metadata": {
        "id": "q3rqko7Ynb52"
      }
    },
    {
      "cell_type": "code",
      "source": [
        "# Dicionário de palavras-chave e intenções:\n",
        "keywords = {}\n",
        "keywords_dict = {}\n",
        "\n",
        "# Criando um registro de intenção para saudações\n",
        "keywords['saudacao'] = []\n",
        "# Adiciona sinônimos da palavra-chave 'olá' à entrada recém criada\n",
        "for sin in list(lista_sinonimos['olá']):\n",
        "  keywords['saudacao'].append('.*\\\\b'+sin+'\\\\b.*')\n",
        "  # print(keywords)\n",
        "\n",
        "# Criando um registro de intanção para saudação de bom dia\n",
        "keywords['saudacao_bom_dia'] = ['bom dia']\n",
        "\n",
        "# Criando um registro de intanção para saudação de boa tarde\n",
        "keywords['saudacao_boa_tarde'] = ['boa tarde']\n",
        "\n",
        "# Criando um registro de intanção para saudação de boa noite\n",
        "keywords['saudacao_boa_noite'] = ['boa noite']\n",
        "\n",
        "# Criando um registro de intanção para agradecimento\n",
        "keywords['agradecimento'] = []\n",
        "# Adiciona sinônimos da palavra-chave 'obrigado' à entrada recém criada\n",
        "for sin in list(lista_sinonimos['obrigado']):\n",
        "  keywords['agradecimento'].append('.*\\\\b'+sin+'\\\\b.*')\n",
        "\n",
        "# Criando um registro de intanção para localização\n",
        "keywords['localizacao'] = []\n",
        "# Adiciona sinônimos da palavra-chave 'obrigado' à entrada recém criada\n",
        "for sin in list(lista_sinonimos['local']):\n",
        "  keywords['localizacao'].append('.*\\\\b'+sin+'\\\\b.*')\n",
        "\n",
        "# Agora cria-se um novo registro de intenção para horário de atendimento\n",
        "keywords['horario_atendimento'] = []\n",
        "# Adiciona sinônimos da palavra-chave 'horário' à entrada recém criada\n",
        "for sin in list(lista_sinonimos['horário']):\n",
        "  keywords['horario_atendimento'].append('.*\\\\b'+sin+'\\\\b.*')\n",
        "  # print(keywords)\n",
        "\n",
        "# Agora cria-se um novo registro de intenção para o cardápio\n",
        "keywords['cardapio'] = []\n",
        "# Adiciona sinônimos da palavra-chave 'horário' à entrada recém criada\n",
        "for sin in list(lista_sinonimos['cardápio']):\n",
        "  keywords['cardapio'].append('.*\\\\b'+sin+'\\\\b.*')\n",
        "\n",
        "for intent, keys in keywords.items():\n",
        "  # Vou unir todas as palavras-chave sinônimas com  o operador 'OU'\n",
        "  keywords_dict[intent] = re.compile('|'.join(keys))\n",
        "\n",
        "print(keywords_dict)"
      ],
      "metadata": {
        "colab": {
          "base_uri": "https://localhost:8080/"
        },
        "collapsed": true,
        "id": "6XlR2i9UnTqy",
        "outputId": "35d8fd1d-cd9a-4bf2-865e-e3747986a7d0"
      },
      "execution_count": 16,
      "outputs": [
        {
          "output_type": "stream",
          "name": "stdout",
          "text": [
            "{'saudacao': re.compile('.*\\\\boi\\\\b.*|.*\\\\bolá\\\\b.*'), 'saudacao_bom_dia': re.compile('bom dia'), 'saudacao_boa_tarde': re.compile('boa tarde'), 'saudacao_boa_noite': re.compile('boa noite'), 'agradecimento': re.compile('.*\\\\bapreciativo\\\\b.*|.*\\\\bmuito obrigado\\\\b.*|.*\\\\bvaleu\\\\b.*|.*\\\\bobrigado\\\\b.*|.*\\\\bagradeço\\\\b.*|.*\\\\bagradecido\\\\b.*'), 'localizacao': re.compile('.*\\\\blocalização\\\\b.*|.*\\\\blugar\\\\b.*|.*\\\\bposição\\\\b.*|.*\\\\blocal\\\\b.*|.*\\\\bendereço\\\\b.*|.*\\\\bsituação\\\\b.*|.*\\\\blocalidade\\\\b.*|.*\\\\batendem\\\\b.*'), 'horario_atendimento': re.compile('.*\\\\bprograma\\\\b.*|.*\\\\bordem_do_dia\\\\b.*|.*\\\\bcronograma\\\\b.*|.*\\\\bplano\\\\b.*|.*\\\\bhorário\\\\b.*|.*\\\\bagenda\\\\b.*'), 'cardapio': re.compile('.*\\\\bcardápio\\\\b.*|.*\\\\bmenu\\\\b.*')}\n"
          ]
        }
      ]
    },
    {
      "cell_type": "markdown",
      "source": [
        "#### Definindo as respostas\n",
        "Agora vou definir as respostas para cada intenção. É importante sempre definir uma intenção padrão, para ser acionada caso não achemos nenhuma palavra-chave na entrada do usuário."
      ],
      "metadata": {
        "id": "_L_SszzjxDwA"
      }
    },
    {
      "cell_type": "code",
      "source": [
        "# Dicionário de respostas\n",
        "respostas = {\n",
        "    'saudacao' : 'Olá. Como posso ajudar?',\n",
        "    'saudacao_bom_dia' : 'Bom dia! Como posso ajudar?',\n",
        "    'saudacao_boa_tarde' : 'Boa tarde! Como posso ajudar?',\n",
        "    'saudacao_boa_noite' : 'Boa noite! Como posso ajudar?',\n",
        "    'horario_atendimento' : 'Nosso horário de atendimento é de segunda a sexta, das 11h às 23h',\n",
        "    'padrao' : 'Desculpe, não entendi o que você disse. Poderia reformular a pergunta?',\n",
        "    'agradecimento' : 'De nada! Se precisar de mais alguma coisa, estou à disposição.',\n",
        "    'localizacao' : 'Estamos localizados na Travessa do Tranco, nº 9',\n",
        "    'cardapio' : 'Claro, segue nosso cardápio ...'\n",
        "}"
      ],
      "metadata": {
        "id": "luGh0CXww0oS"
      },
      "execution_count": 14,
      "outputs": []
    },
    {
      "cell_type": "markdown",
      "source": [
        "É possível adicionar mais respostas (intenções) ao dicionário, como agradecimento, despedida e, até localização:\n",
        "\n",
        "**agradecimento:** 'De nada! Se precisar de mais alguma coisa, estou à disposição.\n",
        "\n",
        "**despedida:** 'Até logo! Tenha um ótimo dia.\n",
        "\n",
        "**localizacao:** 'Estamos localizados na Rua Exemplo, 123, no centro da cidade.'"
      ],
      "metadata": {
        "id": "KvwfgQaDykSo"
      }
    },
    {
      "cell_type": "markdown",
      "source": [
        "#### Linkando as intenções e gerando as repostas (front-end)\n",
        "Aqui será construído de fato o algoritmo que fará a interação com o usuário (o gerenciador de diálogo), onde receberemos uma entrada do mesmo, e utilizando regex, iremos buscar as palavras-chave no texto e associar com a intenção desejada."
      ],
      "metadata": {
        "id": "TJWyV7T0zP7B"
      }
    },
    {
      "cell_type": "code",
      "source": [
        "print(\"Bem vindo ao Restaurante As Três Vassouras! \")\n",
        "\n",
        "# Recebe a entrada até o usuário finalizar a conversa\n",
        "while True:\n",
        "\n",
        "  # Recebe a entrada do usuário e a coloca em letras minúsculas\n",
        "  entrada = input().lower()\n",
        "\n",
        "  # lista_saida = ['tchau', 'até mais', 'até']\n",
        "  # for saida in lista_saida:\n",
        "  #   if saida in entrada:\n",
        "  #     print('Obrigado pela preferência! Até logo!')\n",
        "  #     break\n",
        "\n",
        "  # Condição de saída\n",
        "  if entrada == 'sair' or entrada == 'até' or entrada == 'até mais' or entrada == 'tchau':\n",
        "    print('Obrigado pela preferência! Até logo!')\n",
        "    break\n",
        "\n",
        "  matched_intent = None\n",
        "\n",
        "  for intent, pattern in keywords_dict.items():\n",
        "\n",
        "    # Busca as palavras-chave na entrada do usuário utilizando o regex\n",
        "    if re.search(pattern, entrada):\n",
        "      # caso encontre o padrão regex, o salva na intenção correspondente\n",
        "      matched_intent = intent\n",
        "\n",
        "  # Padrão\n",
        "  key = 'padrao'\n",
        "  if matched_intent in respostas:\n",
        "    key = matched_intent\n",
        "\n",
        "  # Resposta correspondente\n",
        "  print(respostas[key])"
      ],
      "metadata": {
        "colab": {
          "base_uri": "https://localhost:8080/"
        },
        "collapsed": true,
        "id": "kC9aLzGSzE1Y",
        "outputId": "1becad90-d82a-49c4-fb9b-0fe01840fe97"
      },
      "execution_count": 17,
      "outputs": [
        {
          "output_type": "stream",
          "name": "stdout",
          "text": [
            "Bem vindo ao Restaurante As Três Vassouras! \n",
            "Bom dia\n",
            "Bom dia! Como posso ajudar?\n",
            "Gostaria do cardápio, por favor\n",
            "Claro, segue nosso cardápio ...\n",
            "Obrigado\n",
            "De nada! Se precisar de mais alguma coisa, estou à disposição.\n",
            "Onde vocês atendem?\n",
            "Estamos localizados na Travessa do Tranco, nº 9\n",
            "Entendi, muito obrigado\n",
            "De nada! Se precisar de mais alguma coisa, estou à disposição.\n",
            "Até mais\n",
            "Obrigado pela preferência! Até logo!\n"
          ]
        }
      ]
    }
  ]
}